{
  "nbformat": 4,
  "nbformat_minor": 0,
  "metadata": {
    "colab": {
      "provenance": []
    },
    "kernelspec": {
      "name": "python3",
      "display_name": "Python 3"
    },
    "language_info": {
      "name": "python"
    }
  },
  "cells": [
    {
      "cell_type": "markdown",
      "source": [
        "**Question No.1**\n",
        "\n",
        "Create a function that takes a string and returns a string in which each character is repeated once.\n",
        "\n",
        "Examples\n",
        "\n",
        "* double_char(\"String\") ➞ \"SSttrriinngg\"\n",
        "\n",
        "* double_char(\"Hello World!\") ➞ \"HHeelllloo  WWoorrlldd!!\"\n",
        "\n",
        "* double_char(\"1234!_ \") ➞ \"11223344!!__  \""
      ],
      "metadata": {
        "id": "_DpfnZFqq4bM"
      }
    },
    {
      "cell_type": "code",
      "execution_count": 1,
      "metadata": {
        "id": "f7Wyp2CDqvvh"
      },
      "outputs": [],
      "source": [
        "def double_char(s) :\n",
        "    s2 = \"\"\n",
        "    for i in s :\n",
        "        s2 = s2 + i+i\n",
        "    return s2 "
      ]
    },
    {
      "cell_type": "code",
      "source": [
        "double_char(\"String\") "
      ],
      "metadata": {
        "colab": {
          "base_uri": "https://localhost:8080/",
          "height": 36
        },
        "id": "QxMl3t1vrXK3",
        "outputId": "e6845115-711c-49e3-d568-3ae4a40a0000"
      },
      "execution_count": 2,
      "outputs": [
        {
          "output_type": "execute_result",
          "data": {
            "text/plain": [
              "'SSttrriinngg'"
            ],
            "application/vnd.google.colaboratory.intrinsic+json": {
              "type": "string"
            }
          },
          "metadata": {},
          "execution_count": 2
        }
      ]
    },
    {
      "cell_type": "code",
      "source": [
        "double_char(\"Hello World!\")"
      ],
      "metadata": {
        "colab": {
          "base_uri": "https://localhost:8080/",
          "height": 36
        },
        "id": "6ocAcpM1rfqf",
        "outputId": "31690172-9518-4aac-f493-963cef23e4c7"
      },
      "execution_count": 3,
      "outputs": [
        {
          "output_type": "execute_result",
          "data": {
            "text/plain": [
              "'HHeelllloo  WWoorrlldd!!'"
            ],
            "application/vnd.google.colaboratory.intrinsic+json": {
              "type": "string"
            }
          },
          "metadata": {},
          "execution_count": 3
        }
      ]
    },
    {
      "cell_type": "code",
      "source": [
        "double_char(\"1234!_ \")"
      ],
      "metadata": {
        "colab": {
          "base_uri": "https://localhost:8080/",
          "height": 36
        },
        "id": "COlAl9yZrjVI",
        "outputId": "fa1420a2-02c4-483c-d200-c8dfa1ec0be7"
      },
      "execution_count": 4,
      "outputs": [
        {
          "output_type": "execute_result",
          "data": {
            "text/plain": [
              "'11223344!!__  '"
            ],
            "application/vnd.google.colaboratory.intrinsic+json": {
              "type": "string"
            }
          },
          "metadata": {},
          "execution_count": 4
        }
      ]
    },
    {
      "cell_type": "markdown",
      "source": [
        "\n",
        "\n",
        "---\n",
        "\n"
      ],
      "metadata": {
        "id": "qA4WuCwtrqUw"
      }
    },
    {
      "cell_type": "markdown",
      "source": [
        "**Question No.2**\n",
        "\n",
        "Create a function that reverses a boolean value and returns the string \"boolean expected\" if another variable type is given.\n",
        "\n",
        "Examples\n",
        "\n",
        "* reverse(True) ➞ False\n",
        "\n",
        "* reverse(False) ➞ True\n",
        "\n",
        "* reverse(0) ➞ \"boolean expected\"\n",
        "\n",
        "* reverse(None) ➞ \"boolean expected\""
      ],
      "metadata": {
        "id": "C0Igbh90wzOT"
      }
    },
    {
      "cell_type": "code",
      "source": [
        "def reverse(arg):\n",
        "    if isinstance(arg, bool):\n",
        "        return not arg\n",
        "    else:\n",
        "        return \"boolean expected\"\n"
      ],
      "metadata": {
        "id": "Bksm1yZxznmW"
      },
      "execution_count": 19,
      "outputs": []
    },
    {
      "cell_type": "code",
      "source": [
        "reverse(True) "
      ],
      "metadata": {
        "colab": {
          "base_uri": "https://localhost:8080/"
        },
        "id": "M6XeYia-1DGx",
        "outputId": "6d6d2a9e-14eb-4e01-e6f2-57ee4086813b"
      },
      "execution_count": 20,
      "outputs": [
        {
          "output_type": "execute_result",
          "data": {
            "text/plain": [
              "False"
            ]
          },
          "metadata": {},
          "execution_count": 20
        }
      ]
    },
    {
      "cell_type": "code",
      "source": [
        "reverse(None)"
      ],
      "metadata": {
        "colab": {
          "base_uri": "https://localhost:8080/",
          "height": 36
        },
        "id": "r68tauqH1NYO",
        "outputId": "fd8dda62-31b1-4443-b016-1d41f8e37238"
      },
      "execution_count": 21,
      "outputs": [
        {
          "output_type": "execute_result",
          "data": {
            "text/plain": [
              "'boolean expected'"
            ],
            "application/vnd.google.colaboratory.intrinsic+json": {
              "type": "string"
            }
          },
          "metadata": {},
          "execution_count": 21
        }
      ]
    },
    {
      "cell_type": "code",
      "source": [
        "reverse(False)"
      ],
      "metadata": {
        "colab": {
          "base_uri": "https://localhost:8080/"
        },
        "id": "06VACr__1PLo",
        "outputId": "390b975b-e12d-492a-dc84-d78e67532efa"
      },
      "execution_count": 22,
      "outputs": [
        {
          "output_type": "execute_result",
          "data": {
            "text/plain": [
              "True"
            ]
          },
          "metadata": {},
          "execution_count": 22
        }
      ]
    },
    {
      "cell_type": "code",
      "source": [
        "reverse(0)"
      ],
      "metadata": {
        "colab": {
          "base_uri": "https://localhost:8080/",
          "height": 36
        },
        "id": "hcFN0S9I1bbN",
        "outputId": "aba24831-f170-4058-adcf-52999eb13e4b"
      },
      "execution_count": 23,
      "outputs": [
        {
          "output_type": "execute_result",
          "data": {
            "text/plain": [
              "'boolean expected'"
            ],
            "application/vnd.google.colaboratory.intrinsic+json": {
              "type": "string"
            }
          },
          "metadata": {},
          "execution_count": 23
        }
      ]
    },
    {
      "cell_type": "markdown",
      "source": [
        "\n",
        "\n",
        "---\n",
        "\n"
      ],
      "metadata": {
        "id": "OXV7V60tzmUa"
      }
    },
    {
      "cell_type": "markdown",
      "source": [
        "**Question No.3**\n",
        "\n",
        "Create a function that returns the thickness (in meters) of a piece of paper after folding it n number of times. The paper starts off with a thickness of 0.5mm.\n",
        "\n",
        "Examples\n",
        "\n",
        "* num_layers(1) ➞ \"0.001m\" -->\n",
        "Paper folded once is 1mm (equal to 0.001m)\n",
        "\n",
        "* num_layers(4) ➞ \"0.008m\" -->\n",
        "Paper folded 4 times is 8mm (equal to 0.008m)\n",
        "\n",
        "* num_layers(21) ➞ \"1048.576m\" -->\n",
        "Paper folded 21 times is 1048576mm (equal to 1048.576m)"
      ],
      "metadata": {
        "id": "sqTHh4U12SDU"
      }
    },
    {
      "cell_type": "code",
      "source": [
        "def num_layers(n):\n",
        "    thickness_mm = 0.5 * (2 ** n)  \n",
        "    thickness_m = thickness_mm / 1000 \n",
        "    return f\"{thickness_m}m\"\n"
      ],
      "metadata": {
        "id": "dw0647A124NW"
      },
      "execution_count": 24,
      "outputs": []
    },
    {
      "cell_type": "code",
      "source": [
        "num_layers(1)"
      ],
      "metadata": {
        "colab": {
          "base_uri": "https://localhost:8080/",
          "height": 36
        },
        "id": "8CbOamWJ3VH_",
        "outputId": "9fc5c0a6-d36f-4ad7-d98f-4441a931be83"
      },
      "execution_count": 25,
      "outputs": [
        {
          "output_type": "execute_result",
          "data": {
            "text/plain": [
              "'0.001m'"
            ],
            "application/vnd.google.colaboratory.intrinsic+json": {
              "type": "string"
            }
          },
          "metadata": {},
          "execution_count": 25
        }
      ]
    },
    {
      "cell_type": "code",
      "source": [
        "num_layers(4)"
      ],
      "metadata": {
        "colab": {
          "base_uri": "https://localhost:8080/",
          "height": 36
        },
        "id": "G3dwzQ0O3ZrL",
        "outputId": "e4ec3270-b429-4bbd-fa32-2394bd647469"
      },
      "execution_count": 26,
      "outputs": [
        {
          "output_type": "execute_result",
          "data": {
            "text/plain": [
              "'0.008m'"
            ],
            "application/vnd.google.colaboratory.intrinsic+json": {
              "type": "string"
            }
          },
          "metadata": {},
          "execution_count": 26
        }
      ]
    },
    {
      "cell_type": "code",
      "source": [
        "num_layers(21)"
      ],
      "metadata": {
        "colab": {
          "base_uri": "https://localhost:8080/",
          "height": 36
        },
        "id": "yLiYx4KZ3dhc",
        "outputId": "f88f175c-85ed-46ba-ff91-02a281dee5a8"
      },
      "execution_count": 27,
      "outputs": [
        {
          "output_type": "execute_result",
          "data": {
            "text/plain": [
              "'1048.576m'"
            ],
            "application/vnd.google.colaboratory.intrinsic+json": {
              "type": "string"
            }
          },
          "metadata": {},
          "execution_count": 27
        }
      ]
    },
    {
      "cell_type": "markdown",
      "source": [
        "\n",
        "\n",
        "---\n",
        "\n"
      ],
      "metadata": {
        "id": "tcgFE1ON243a"
      }
    },
    {
      "cell_type": "markdown",
      "source": [
        "**Question No.4**\n",
        "\n",
        "Create a function that takes a single string as argument and returns an ordered list containing the indices of all capital letters in the string.\n",
        "\n",
        "Examples\n",
        "\n",
        "* index_of_caps(\"eDaBiT\") ➞ [1, 3, 5]\n",
        "\n",
        "* index_of_caps(\"eQuINoX\") ➞ [1, 3, 4, 6]\n",
        "\n",
        "* index_of_caps(\"determine\") ➞ []\n",
        "\n",
        "* index_of_caps(\"STRIKE\") ➞ [0, 1, 2, 3, 4, 5]\n",
        "\n",
        "* index_of_caps(\"sUn\") ➞ [1]"
      ],
      "metadata": {
        "id": "F3t3sRKEtv8P"
      }
    },
    {
      "cell_type": "code",
      "source": [
        "def index_of_caps(s) :\n",
        "    b = [ s.index(i) for i in s if i.isupper() ]\n",
        "    return b \n",
        "    "
      ],
      "metadata": {
        "id": "Akhf04RCuINE"
      },
      "execution_count": 9,
      "outputs": []
    },
    {
      "cell_type": "code",
      "source": [
        "index_of_caps(\"eQuINoX\")"
      ],
      "metadata": {
        "colab": {
          "base_uri": "https://localhost:8080/"
        },
        "id": "v6S7ZjCfwd8I",
        "outputId": "d0d0cfe2-a03e-4b64-91f9-595b807136ae"
      },
      "execution_count": 10,
      "outputs": [
        {
          "output_type": "execute_result",
          "data": {
            "text/plain": [
              "[1, 3, 4, 6]"
            ]
          },
          "metadata": {},
          "execution_count": 10
        }
      ]
    },
    {
      "cell_type": "code",
      "source": [
        "index_of_caps(\"determine\")"
      ],
      "metadata": {
        "colab": {
          "base_uri": "https://localhost:8080/"
        },
        "id": "JX6X3n-Wws7-",
        "outputId": "2b23e034-1ecf-4e0d-f804-0460226d3e4c"
      },
      "execution_count": 12,
      "outputs": [
        {
          "output_type": "execute_result",
          "data": {
            "text/plain": [
              "[]"
            ]
          },
          "metadata": {},
          "execution_count": 12
        }
      ]
    },
    {
      "cell_type": "markdown",
      "source": [
        "\n",
        "\n",
        "---\n",
        "\n"
      ],
      "metadata": {
        "id": "vpvDpvTnuI8Y"
      }
    },
    {
      "cell_type": "markdown",
      "source": [
        "**Question No.5**\n",
        "\n",
        "Using list comprehensions, create a function that finds all even numbers from 1 to the given number.\n",
        "\n",
        "Examples\n",
        "\n",
        "* find_even_nums(8) ➞ [2, 4, 6, 8]\n",
        "\n",
        "* find_even_nums(4) ➞ [2, 4]\n",
        "\n",
        "* find_even_nums(2) ➞ [2]"
      ],
      "metadata": {
        "id": "vKaE0Rtste1c"
      }
    },
    {
      "cell_type": "code",
      "source": [
        "def find_even_nums(n) :\n",
        "    e = [x for x in range (1 , n+1) if x % 2 == 0 ]\n",
        "    return e \n",
        "    "
      ],
      "metadata": {
        "id": "-pr0yVqwroJc"
      },
      "execution_count": 5,
      "outputs": []
    },
    {
      "cell_type": "code",
      "source": [
        "find_even_nums(9) "
      ],
      "metadata": {
        "colab": {
          "base_uri": "https://localhost:8080/"
        },
        "id": "LFNtf8oatK8z",
        "outputId": "4035171b-cdf7-4cb9-90bb-8c96d602661b"
      },
      "execution_count": 6,
      "outputs": [
        {
          "output_type": "execute_result",
          "data": {
            "text/plain": [
              "[2, 4, 6, 8]"
            ]
          },
          "metadata": {},
          "execution_count": 6
        }
      ]
    },
    {
      "cell_type": "code",
      "source": [],
      "metadata": {
        "id": "uPvudFeYtOds"
      },
      "execution_count": null,
      "outputs": []
    }
  ]
}